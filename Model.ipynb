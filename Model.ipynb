{
 "cells": [
  {
   "cell_type": "markdown",
   "metadata": {},
   "source": [
    "# Step-by-Step Implementation"
   ]
  },
  {
   "cell_type": "markdown",
   "metadata": {},
   "source": [
    "1. Load and Prepare the Dataset"
   ]
  },
  {
   "cell_type": "code",
   "execution_count": 3,
   "metadata": {},
   "outputs": [],
   "source": [
    "import os\n",
    "import numpy as np\n",
    "import cv2\n",
    "from sklearn.model_selection import train_test_split\n",
    "from tensorflow.keras.utils import to_categorical"
   ]
  },
  {
   "cell_type": "code",
   "execution_count": 4,
   "metadata": {},
   "outputs": [],
   "source": [
    "# Function to load UTKFace dataset\n",
    "def load_dataset(dataset_path):\n",
    "    images = []\n",
    "    ages = []\n",
    "    genders = []\n",
    "\n",
    "    for image_name in os.listdir(dataset_path):\n",
    "        image_path = os.path.join(dataset_path, image_name)\n",
    "        if image_path.endswith('.jpg'):\n",
    "            # Split file name by underscore (assuming format is age_gender_identity.jpg)\n",
    "            parts = image_name.split('_')\n",
    "            age = int(parts[0])\n",
    "            gender = int(parts[1])\n",
    "\n",
    "            # Load image and preprocess\n",
    "            image = cv2.imread(image_path)\n",
    "            image = cv2.cvtColor(image, cv2.COLOR_BGR2RGB)  # Convert to RGB (if necessary)\n",
    "            image = cv2.resize(image, (128, 128))  # Resize image to desired dimensions\n",
    "            images.append(image)\n",
    "            ages.append(age)\n",
    "            genders.append(gender)\n",
    "\n",
    "    images = np.array(images)\n",
    "    ages = np.array(ages)\n",
    "    genders = np.array(genders)\n",
    "\n",
    "    return images, ages, genders\n"
   ]
  },
  {
   "cell_type": "code",
   "execution_count": 5,
   "metadata": {},
   "outputs": [],
   "source": [
    "# Replace 'dataset_path' with your actual path to UTKFace dataset\n",
    "dataset_path = 'UTKFace'\n",
    "images, ages, genders = load_dataset(dataset_path)\n"
   ]
  },
  {
   "cell_type": "code",
   "execution_count": 6,
   "metadata": {},
   "outputs": [
    {
     "name": "stdout",
     "output_type": "stream",
     "text": [
      "Number of images: 23708\n",
      "Example image shape: (128, 128, 3)\n",
      "Example age: 100, gender: 0\n"
     ]
    }
   ],
   "source": [
    "# Print dataset statistics\n",
    "print(f\"Number of images: {len(images)}\")\n",
    "print(f\"Example image shape: {images[0].shape}\")\n",
    "print(f\"Example age: {ages[0]}, gender: {genders[0]}\")"
   ]
  },
  {
   "cell_type": "markdown",
   "metadata": {},
   "source": [
    "2. Preprocess the Data"
   ]
  },
  {
   "cell_type": "code",
   "execution_count": 7,
   "metadata": {},
   "outputs": [],
   "source": [
    "# Adjust age based on shirt color (assuming white and black shirts affect age as per your requirements)\n",
    "def adjust_age_based_on_shirt_color(images, ages):\n",
    "    adjusted_ages = []\n",
    "    for i in range(len(images)):\n",
    "        image = images[i]\n",
    "        # Example: Detect shirt color based on pixel intensity threshold (simplified)\n",
    "        avg_color = np.mean(image, axis=(0, 1))\n",
    "        if avg_color[0] > 200 and avg_color[1] > 200 and avg_color[2] > 200:\n",
    "            adjusted_age = 23\n",
    "        elif avg_color[0] < 50 and avg_color[1] < 50 and avg_color[2] < 50:\n",
    "            adjusted_age = 12  # Child\n",
    "        else:\n",
    "            adjusted_age = ages[i]  # No adjustment\n",
    "        adjusted_ages.append(adjusted_age)\n",
    "    return np.array(adjusted_ages)"
   ]
  },
  {
   "cell_type": "code",
   "execution_count": 8,
   "metadata": {},
   "outputs": [],
   "source": [
    "# Apply age adjustment based on shirt color\n",
    "adjusted_ages = adjust_age_based_on_shirt_color(images, ages)\n",
    "\n",
    "# Convert gender to categorical (one-hot encoding)\n",
    "genders_categorical = to_categorical(genders)\n",
    "\n",
    "# Split dataset into training and testing sets\n",
    "X_train, X_test, age_train, age_test, gender_train, gender_test = train_test_split(images, adjusted_ages, genders_categorical, test_size=0.2, random_state=42)\n",
    "\n",
    "# Normalize pixel values to [0, 1]\n",
    "X_train = X_train / 255.0\n",
    "X_test = X_test / 255.0"
   ]
  },
  {
   "cell_type": "code",
   "execution_count": 9,
   "metadata": {},
   "outputs": [
    {
     "name": "stdout",
     "output_type": "stream",
     "text": [
      "X_train shape: (18966, 128, 128, 3), age_train shape: (18966,), gender_train shape: (18966, 2)\n",
      "X_test shape: (4742, 128, 128, 3), age_test shape: (4742,), gender_test shape: (4742, 2)\n"
     ]
    }
   ],
   "source": [
    "# Print shapes of training and testing sets\n",
    "print(f\"X_train shape: {X_train.shape}, age_train shape: {age_train.shape}, gender_train shape: {gender_train.shape}\")\n",
    "print(f\"X_test shape: {X_test.shape}, age_test shape: {age_test.shape}, gender_test shape: {gender_test.shape}\")"
   ]
  },
  {
   "cell_type": "markdown",
   "metadata": {},
   "source": [
    "3. Define and Train the Convolutional Neural Network (CNN)"
   ]
  },
  {
   "cell_type": "code",
   "execution_count": 10,
   "metadata": {},
   "outputs": [],
   "source": [
    "from tensorflow.keras.models import Model\n",
    "from tensorflow.keras.layers import Input, Conv2D, MaxPooling2D, Flatten, Dense, Dropout\n",
    "\n",
    "# Define CNN model architecture\n",
    "input_shape = (128, 128, 3)\n",
    "inp = Input(shape=input_shape)\n",
    "conv1 = Conv2D(32, kernel_size=(3, 3), activation='relu')(inp)\n",
    "pool1 = MaxPooling2D(pool_size=(2, 2))(conv1)\n",
    "conv2 = Conv2D(64, kernel_size=(3, 3), activation='relu')(pool1)\n",
    "pool2 = MaxPooling2D(pool_size=(2, 2))(conv2)\n",
    "flatten = Flatten()(pool2)\n",
    "dense1 = Dense(128, activation='relu')(flatten)\n",
    "drop1 = Dropout(0.5)(dense1)\n",
    "\n",
    "# Output layers for age and gender prediction\n",
    "out_age = Dense(1, name='age_output')(drop1)\n",
    "out_gender = Dense(2, activation='softmax', name='gender_output')(drop1)"
   ]
  },
  {
   "cell_type": "code",
   "execution_count": 11,
   "metadata": {},
   "outputs": [
    {
     "name": "stdout",
     "output_type": "stream",
     "text": [
      "Epoch 1/10\n",
      "\u001b[1m593/593\u001b[0m \u001b[32m━━━━━━━━━━━━━━━━━━━━\u001b[0m\u001b[37m\u001b[0m \u001b[1m203s\u001b[0m 333ms/step - age_output_mae: 15.0038 - gender_output_accuracy: 0.5413 - loss: 396.8778 - val_age_output_mae: 9.6741 - val_gender_output_accuracy: 0.6301 - val_loss: 163.3434\n",
      "Epoch 2/10\n",
      "\u001b[1m593/593\u001b[0m \u001b[32m━━━━━━━━━━━━━━━━━━━━\u001b[0m\u001b[37m\u001b[0m \u001b[1m170s\u001b[0m 286ms/step - age_output_mae: 10.5974 - gender_output_accuracy: 0.6396 - loss: 197.4745 - val_age_output_mae: 8.9426 - val_gender_output_accuracy: 0.6763 - val_loss: 146.8632\n",
      "Epoch 3/10\n",
      "\u001b[1m593/593\u001b[0m \u001b[32m━━━━━━━━━━━━━━━━━━━━\u001b[0m\u001b[37m\u001b[0m \u001b[1m169s\u001b[0m 285ms/step - age_output_mae: 9.8564 - gender_output_accuracy: 0.6303 - loss: 171.3921 - val_age_output_mae: 8.3335 - val_gender_output_accuracy: 0.7100 - val_loss: 130.4665\n",
      "Epoch 4/10\n",
      "\u001b[1m593/593\u001b[0m \u001b[32m━━━━━━━━━━━━━━━━━━━━\u001b[0m\u001b[37m\u001b[0m \u001b[1m160s\u001b[0m 270ms/step - age_output_mae: 9.3899 - gender_output_accuracy: 0.6332 - loss: 155.9982 - val_age_output_mae: 8.2569 - val_gender_output_accuracy: 0.7334 - val_loss: 121.3098\n",
      "Epoch 5/10\n",
      "\u001b[1m593/593\u001b[0m \u001b[32m━━━━━━━━━━━━━━━━━━━━\u001b[0m\u001b[37m\u001b[0m \u001b[1m169s\u001b[0m 283ms/step - age_output_mae: 8.6657 - gender_output_accuracy: 0.6591 - loss: 135.1530 - val_age_output_mae: 7.8137 - val_gender_output_accuracy: 0.7604 - val_loss: 112.0253\n",
      "Epoch 6/10\n",
      "\u001b[1m593/593\u001b[0m \u001b[32m━━━━━━━━━━━━━━━━━━━━\u001b[0m\u001b[37m\u001b[0m \u001b[1m163s\u001b[0m 274ms/step - age_output_mae: 8.5366 - gender_output_accuracy: 0.6606 - loss: 128.2485 - val_age_output_mae: 7.7134 - val_gender_output_accuracy: 0.7067 - val_loss: 110.4440\n",
      "Epoch 7/10\n",
      "\u001b[1m593/593\u001b[0m \u001b[32m━━━━━━━━━━━━━━━━━━━━\u001b[0m\u001b[37m\u001b[0m \u001b[1m164s\u001b[0m 277ms/step - age_output_mae: 8.0802 - gender_output_accuracy: 0.6603 - loss: 116.6436 - val_age_output_mae: 7.5020 - val_gender_output_accuracy: 0.7712 - val_loss: 107.2306\n",
      "Epoch 8/10\n",
      "\u001b[1m593/593\u001b[0m \u001b[32m━━━━━━━━━━━━━━━━━━━━\u001b[0m\u001b[37m\u001b[0m \u001b[1m167s\u001b[0m 282ms/step - age_output_mae: 7.8963 - gender_output_accuracy: 0.6667 - loss: 111.1759 - val_age_output_mae: 7.2842 - val_gender_output_accuracy: 0.7375 - val_loss: 100.1188\n",
      "Epoch 9/10\n",
      "\u001b[1m593/593\u001b[0m \u001b[32m━━━━━━━━━━━━━━━━━━━━\u001b[0m\u001b[37m\u001b[0m \u001b[1m168s\u001b[0m 283ms/step - age_output_mae: 7.9376 - gender_output_accuracy: 0.6566 - loss: 113.2083 - val_age_output_mae: 7.2319 - val_gender_output_accuracy: 0.7214 - val_loss: 99.5047\n",
      "Epoch 10/10\n",
      "\u001b[1m593/593\u001b[0m \u001b[32m━━━━━━━━━━━━━━━━━━━━\u001b[0m\u001b[37m\u001b[0m \u001b[1m179s\u001b[0m 301ms/step - age_output_mae: 7.4229 - gender_output_accuracy: 0.6556 - loss: 99.0269 - val_age_output_mae: 7.3183 - val_gender_output_accuracy: 0.7404 - val_loss: 104.7839\n"
     ]
    }
   ],
   "source": [
    "# Compile the model\n",
    "model = Model(inputs=inp, outputs=[out_age, out_gender])\n",
    "model.compile(optimizer='adam',\n",
    "              loss={'age_output': 'mean_squared_error', 'gender_output': 'categorical_crossentropy'},\n",
    "              metrics={'age_output': 'mae', 'gender_output': 'accuracy'})\n",
    "\n",
    "# Train the model\n",
    "history = model.fit(X_train, {'age_output': age_train, 'gender_output': gender_train},\n",
    "                    validation_data=(X_test, {'age_output': age_test, 'gender_output': gender_test}),\n",
    "                    epochs=10, batch_size=32, verbose=1)"
   ]
  },
  {
   "cell_type": "markdown",
   "metadata": {},
   "source": [
    "4. Evaluate and Test the Model"
   ]
  },
  {
   "cell_type": "code",
   "execution_count": 18,
   "metadata": {},
   "outputs": [
    {
     "name": "stdout",
     "output_type": "stream",
     "text": [
      "\u001b[1m149/149\u001b[0m \u001b[32m━━━━━━━━━━━━━━━━━━━━\u001b[0m\u001b[37m\u001b[0m \u001b[1m9s\u001b[0m 58ms/step - age_output_mae: 7.2732 - gender_output_accuracy: 0.7365 - loss: 103.9106\n",
      "Loss: 104.78392028808594\n",
      "Age Loss: 7.318343639373779\n",
      "Gender Loss: 0.7404049038887024\n"
     ]
    }
   ],
   "source": [
    "# Evaluate the model\n",
    "losses = model.evaluate(X_test, {'age_output': age_test, 'gender_output': gender_test})\n",
    "\n",
    "# Print the overall loss and specific metrics if available\n",
    "print(f\"Loss: {losses[0]}\")\n",
    "if len(losses) > 1:\n",
    "    print(f\"Age Loss: {losses[1]}\")\n",
    "if len(losses) > 2:\n",
    "    print(f\"Gender Loss: {losses[2]}\")\n",
    "if len(losses) > 3:\n",
    "    print(f\"Age MAE: {losses[3]}\")\n",
    "if len(losses) > 4:\n",
    "    print(f\"Gender Accuracy: {losses[4]}\")\n"
   ]
  }
 ],
 "metadata": {
  "kernelspec": {
   "display_name": "env",
   "language": "python",
   "name": "python3"
  },
  "language_info": {
   "codemirror_mode": {
    "name": "ipython",
    "version": 3
   },
   "file_extension": ".py",
   "mimetype": "text/x-python",
   "name": "python",
   "nbconvert_exporter": "python",
   "pygments_lexer": "ipython3",
   "version": "3.12.3"
  }
 },
 "nbformat": 4,
 "nbformat_minor": 2
}
